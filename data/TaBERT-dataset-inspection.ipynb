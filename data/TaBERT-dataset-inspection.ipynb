{
 "cells": [
  {
   "cell_type": "code",
   "execution_count": 44,
   "metadata": {},
   "outputs": [],
   "source": [
    "import ujson\n",
    "import string\n",
    "from tqdm.notebook import tqdm\n",
    "\n",
    "from nltk.tokenize import word_tokenize\n",
    "from nltk.tokenize import WhitespaceTokenizer\n",
    "\n",
    "from table_bert import Table\n",
    "from table_bert.dataset import Example"
   ]
  },
  {
   "cell_type": "code",
   "execution_count": 52,
   "metadata": {},
   "outputs": [],
   "source": [
    "commoncrawl_path = '/Users/mac/Desktop/syt/Deep-Learning/Dataset/TaBERT_datasets/CommonCrawl/common_crawl.preprocessed.jsonl'\n",
    "wikitables_path = '/Users/mac/Desktop/syt/Deep-Learning/Dataset/TaBERT_datasets/WikiTables/wiki_tables.jsonl'\n",
    "\n",
    "commoncrawl_n_lines = 4986739\n",
    "wikitables_n_lines = 1473816"
   ]
  },
  {
   "cell_type": "code",
   "execution_count": 4,
   "metadata": {},
   "outputs": [
    {
     "name": "stdout",
     "output_type": "stream",
     "text": [
      "4986739\n",
      "1473816\n"
     ]
    }
   ],
   "source": [
    "# with open(commoncrawl_path, 'r') as f:\n",
    "#     print(len(f.readlines()))\n",
    "\n",
    "# with open(wikitables_path, 'r') as f:\n",
    "#     print(len(f.readlines()))"
   ]
  },
  {
   "cell_type": "code",
   "execution_count": null,
   "metadata": {},
   "outputs": [],
   "source": [
    "whitespace_tokenizer = WhitespaceTokenizer()"
   ]
  },
  {
   "cell_type": "code",
   "execution_count": 53,
   "metadata": {},
   "outputs": [
    {
     "name": "stdout",
     "output_type": "stream",
     "text": [
      "common-crawl/crawl-data/CC-MAIN-2015-32/segments/1438042992201.62/warc/CC-MAIN-20150728002312-00130-ip-10-236-191-2.ec2.internal.warc.gz_567892730_567906623\n",
      "None\n",
      "['Class', 'Interpretation']\n",
      "[['0', 'Negative'], ['1', 'Equivocal'], ['2', 'Positive'], ['3', 'Positive'], ['4', 'Strongly positive'], ['5', 'Strongly positive'], ['6', 'Strongly positive']]\n",
      "[['Reference Values Describes reference intervals and additional information for interpretation of test results.', 'May include intervals based on age and sex when appropriate.', 'Intervals are Mayo-derived, unless otherwise designated.', 'If an interpretive report is provided, the reference value field will state this.', 'Some individuals with clinically insignificant sensitivity to allergens may have measurable levels of IgE antibodies in serum, and results must be interpreted in the clinical context.', 'Testing for IgE antibodies is not useful in patients previously treated with immunotherapy to determine if residual clinical sensitivity exists, or in patients in whom the medical management does not depend upon identification of allergen specificity.', 'Cautions Discusses conditions that may cause diagnostic confusion, including improper specimen collection and handling, inappropriate test selection, and interfering substances The level of IgE antibodies in serum varies directly with the concentration of IgE antibodies expressed as a class score or kU/L. Detection of IgE antibodies in serum (Class 1 or greater) indicates an increased likelihood of allergic disease as opposed to other etiologies and defines the allergens that may be responsible for eliciting signs and symptoms.', 'Interpretation Provides information to assist in interpretation of the test results Testing also'], ['Reference values apply to all ages.', 'Clinical References Provides recommendations for further in-depth reading of a clinical nature Homburger HA: Chapter 53: Allergic diseases.', 'In Clinical Diagnosis and Management by Laboratory Methods.', 'Edited by RA McPherson, MR Pincus.', 'All Rights Reserved.', 'Key Registration Required Transactional Access Commercial Access Secondary Access Primary Access External link PDF document Excel document Word document']]\n"
     ]
    }
   ],
   "source": [
    "with open(commoncrawl_path, 'r') as f:\n",
    "    for l in f:\n",
    "        _tbl_dict = ujson.loads(l)\n",
    "        _example = Example.from_dict(_tbl_dict, tokenizer=None, suffix=None)\n",
    "        _tbl = _example.get_table()\n",
    "        print(_tbl.id)\n",
    "        print(_tbl.name)\n",
    "        print([_col.name for _col in _tbl.header])\n",
    "        print(_tbl.data)\n",
    "        print(_example.context)\n",
    "        break"
   ]
  },
  {
   "cell_type": "code",
   "execution_count": 63,
   "metadata": {},
   "outputs": [
    {
     "data": {
      "application/vnd.jupyter.widget-view+json": {
       "model_id": "665e7a7d8e6b4081a7f24a8f8eab3c43",
       "version_major": 2,
       "version_minor": 0
      },
      "text/plain": [
       "HBox(children=(IntProgress(value=0, max=4986739), HTML(value='')))"
      ]
     },
     "metadata": {},
     "output_type": "display_data"
    },
    {
     "name": "stdout",
     "output_type": "stream",
     "text": [
      "\n"
     ]
    }
   ],
   "source": [
    "# CommonCrawl (1/5 of all data)\n",
    "\n",
    "col_vocab = set()\n",
    "col_set = set()\n",
    "schema_item_vocab = set()\n",
    "schema_item_set = set()\n",
    "context_total_len = 0\n",
    "\n",
    "with open(commoncrawl_path, 'r') as f:\n",
    "    for l in tqdm(f, total=commoncrawl_n_lines):\n",
    "        _tbl_dict = ujson.loads(l)\n",
    "        _example = Example.from_dict(_tbl_dict, tokenizer=None, suffix=None)\n",
    "        _tbl = _example.get_table()\n",
    "        \n",
    "        for _col in _tbl.header:\n",
    "            _col_name = _col.name.lower()\n",
    "            _tokens = whitespace_tokenizer.tokenize(_col_name)\n",
    "            \n",
    "            col_vocab.update(_tokens)\n",
    "            col_set.add(_col_name)\n",
    "            schema_item_vocab.update(_tokens)\n",
    "            schema_item_set.add(_col_name)\n",
    "\n",
    "        for _row in _tbl.data:\n",
    "            for _item in _row:\n",
    "                _item_name = _item.lower()\n",
    "                _tokens = whitespace_tokenizer.tokenize(_item_name)\n",
    "                \n",
    "                schema_item_vocab.update(_tokens)\n",
    "                schema_item_set.add(_item_name)\n",
    "        \n",
    "        _context = ' '.join(_example.context[0] + _example.context[1])\n",
    "        context_total_len += len(_context)"
   ]
  },
  {
   "cell_type": "code",
   "execution_count": 64,
   "metadata": {},
   "outputs": [
    {
     "name": "stdout",
     "output_type": "stream",
     "text": [
      "col_vocab: Size = 161640, Chars = 1230049\n",
      "col_set: Size = 359466, Chars = 5652630\n",
      "schema_item_vocab: Size = 7723528, Chars = 77095468\n",
      "schema_item_set: Size = 15817619, Chars = 324494966\n",
      "context_total_len: 3459606926\n"
     ]
    }
   ],
   "source": [
    "print(f'col_vocab: Size = {len(col_vocab)}, Chars = {sum([len(w) for w in col_vocab])}')\n",
    "print(f'col_set: Size = {len(col_set)}, Chars = {sum([len(w) for w in col_set])}')\n",
    "print(f'schema_item_vocab: Size = {len(schema_item_vocab)}, Chars = {sum([len(w) for w in schema_item_vocab])}')\n",
    "print(f'schema_item_set: Size = {len(schema_item_set)}, Chars = {sum([len(w) for w in schema_item_set])}')\n",
    "print(f'context_total_len: {context_total_len}')\n"
   ]
  },
  {
   "cell_type": "code",
   "execution_count": 66,
   "metadata": {},
   "outputs": [
    {
     "data": {
      "text/plain": [
       "10212.841472"
      ]
     },
     "execution_count": 66,
     "metadata": {},
     "output_type": "execute_result"
    }
   ],
   "source": [
    "commoncrawl_n_lines * 128 / 1e6 * 16"
   ]
  },
  {
   "cell_type": "code",
   "execution_count": 58,
   "metadata": {},
   "outputs": [
    {
     "data": {
      "application/vnd.jupyter.widget-view+json": {
       "model_id": "fb34c532a53d469f905ca3115c385546",
       "version_major": 2,
       "version_minor": 0
      },
      "text/plain": [
       "HBox(children=(IntProgress(value=0, max=1473816), HTML(value='')))"
      ]
     },
     "metadata": {},
     "output_type": "display_data"
    },
    {
     "name": "stdout",
     "output_type": "stream",
     "text": [
      "\n"
     ]
    }
   ],
   "source": [
    "# WikiTables\n",
    "\n",
    "col_vocab = set()\n",
    "col_set = set()\n",
    "schema_item_vocab = set()\n",
    "schema_item_set = set()\n",
    "context_total_len = 0\n",
    "\n",
    "with open(wikitables_path, 'r') as f:\n",
    "    for l in tqdm(f, total=wikitables_n_lines):\n",
    "        _tbl_dict = ujson.loads(l)\n",
    "        _example = Example.from_dict(_tbl_dict, tokenizer=None, suffix=None)\n",
    "        _tbl = _example.get_table()\n",
    "        \n",
    "        for _col in _tbl.header:\n",
    "            _col_name = _col.name.lower()\n",
    "            _tokens = whitespace_tokenizer.tokenize(_col_name)\n",
    "            \n",
    "            col_vocab.update(_tokens)\n",
    "            col_set.add(_col_name)\n",
    "            schema_item_vocab.update(_tokens)\n",
    "            schema_item_set.add(_col_name)\n",
    "\n",
    "        for _row in _tbl.data:\n",
    "            for _item in _row:\n",
    "                _item_name = _item.lower()\n",
    "                _tokens = whitespace_tokenizer.tokenize(_item_name)\n",
    "                \n",
    "                schema_item_vocab.update(_tokens)\n",
    "                schema_item_set.add(_item_name)\n",
    "        \n",
    "        _context = ' '.join(_example.context[0] + _example.context[1])\n",
    "        context_total_len += len(_context)"
   ]
  },
  {
   "cell_type": "code",
   "execution_count": 62,
   "metadata": {},
   "outputs": [
    {
     "name": "stdout",
     "output_type": "stream",
     "text": [
      "col_vocab: Size = 215012, Chars = 1849496\n",
      "col_set: Size = 463263, Chars = 8753202\n",
      "schema_item_vocab: Size = 10336239, Chars = 99786431\n",
      "schema_item_set: Size = 22218910, Chars = 645300366\n",
      "context_total_len: 380041729\n"
     ]
    }
   ],
   "source": [
    "print(f'col_vocab: Size = {len(col_vocab)}, Chars = {sum([len(w) for w in col_vocab])}')\n",
    "print(f'col_set: Size = {len(col_set)}, Chars = {sum([len(w) for w in col_set])}')\n",
    "print(f'schema_item_vocab: Size = {len(schema_item_vocab)}, Chars = {sum([len(w) for w in schema_item_vocab])}')\n",
    "print(f'schema_item_set: Size = {len(schema_item_set)}, Chars = {sum([len(w) for w in schema_item_set])}')\n",
    "print(f'context_total_len: {context_total_len}')\n"
   ]
  },
  {
   "cell_type": "code",
   "execution_count": 67,
   "metadata": {},
   "outputs": [
    {
     "data": {
      "text/plain": [
       "3018.375168"
      ]
     },
     "execution_count": 67,
     "metadata": {},
     "output_type": "execute_result"
    }
   ],
   "source": [
    "wikitables_n_lines * 128 / 1e6 * 16"
   ]
  },
  {
   "cell_type": "code",
   "execution_count": null,
   "metadata": {},
   "outputs": [],
   "source": []
  },
  {
   "cell_type": "code",
   "execution_count": null,
   "metadata": {},
   "outputs": [],
   "source": []
  },
  {
   "cell_type": "markdown",
   "metadata": {},
   "source": [
    "### Temp"
   ]
  },
  {
   "cell_type": "code",
   "execution_count": 46,
   "metadata": {},
   "outputs": [
    {
     "data": {
      "text/plain": [
       "['The',\n",
       " 'temperature',\n",
       " 'in',\n",
       " 'the',\n",
       " \"O'Reilly\",\n",
       " '&',\n",
       " 'Arbuthnot-Smythe',\n",
       " \"server's\",\n",
       " 'main',\n",
       " 'rack',\n",
       " 'is',\n",
       " '40.5',\n",
       " 'degrees.']"
      ]
     },
     "execution_count": 46,
     "metadata": {},
     "output_type": "execute_result"
    }
   ],
   "source": [
    "WhitespaceTokenizer().tokenize(\"The temperature in the O'Reilly & Arbuthnot-Smythe server's main rack is 40.5 degrees.\")"
   ]
  },
  {
   "cell_type": "code",
   "execution_count": null,
   "metadata": {},
   "outputs": [],
   "source": []
  },
  {
   "cell_type": "code",
   "execution_count": null,
   "metadata": {},
   "outputs": [],
   "source": []
  },
  {
   "cell_type": "code",
   "execution_count": null,
   "metadata": {},
   "outputs": [],
   "source": []
  },
  {
   "cell_type": "code",
   "execution_count": null,
   "metadata": {},
   "outputs": [],
   "source": []
  }
 ],
 "metadata": {
  "kernelspec": {
   "display_name": "Python 3",
   "language": "python",
   "name": "python3"
  },
  "language_info": {
   "codemirror_mode": {
    "name": "ipython",
    "version": 3
   },
   "file_extension": ".py",
   "mimetype": "text/x-python",
   "name": "python",
   "nbconvert_exporter": "python",
   "pygments_lexer": "ipython3",
   "version": "3.7.5"
  }
 },
 "nbformat": 4,
 "nbformat_minor": 4
}
